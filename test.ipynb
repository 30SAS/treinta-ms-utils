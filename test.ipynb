{
 "cells": [
  {
   "cell_type": "code",
   "execution_count": 1,
   "metadata": {},
   "outputs": [
    {
     "name": "stdout",
     "output_type": "stream",
     "text": [
      "Requirement already satisfied: treinta-ms-utils in ./.venv/lib/python3.11/site-packages (1.0.0)\n",
      "Requirement already satisfied: boto3 in ./.venv/lib/python3.11/site-packages (from treinta-ms-utils) (1.34.23)\n",
      "Requirement already satisfied: botocore in ./.venv/lib/python3.11/site-packages (from treinta-ms-utils) (1.34.23)\n",
      "Requirement already satisfied: pytz in ./.venv/lib/python3.11/site-packages (from treinta-ms-utils) (2024.1)\n",
      "Requirement already satisfied: jmespath<2.0.0,>=0.7.1 in ./.venv/lib/python3.11/site-packages (from boto3->treinta-ms-utils) (1.0.1)\n",
      "Requirement already satisfied: s3transfer<0.11.0,>=0.10.0 in ./.venv/lib/python3.11/site-packages (from boto3->treinta-ms-utils) (0.10.0)\n",
      "Requirement already satisfied: python-dateutil<3.0.0,>=2.1 in ./.venv/lib/python3.11/site-packages (from botocore->treinta-ms-utils) (2.8.2)\n",
      "Requirement already satisfied: urllib3<2.1,>=1.25.4 in ./.venv/lib/python3.11/site-packages (from botocore->treinta-ms-utils) (2.0.7)\n",
      "Requirement already satisfied: six>=1.5 in ./.venv/lib/python3.11/site-packages (from python-dateutil<3.0.0,>=2.1->botocore->treinta-ms-utils) (1.16.0)\n",
      "Note: you may need to restart the kernel to use updated packages.\n"
     ]
    }
   ],
   "source": [
    "pip install --upgrade treinta-ms-utils"
   ]
  },
  {
   "cell_type": "code",
   "execution_count": null,
   "metadata": {},
   "outputs": [],
   "source": []
  },
  {
   "cell_type": "code",
   "execution_count": 25,
   "metadata": {},
   "outputs": [
    {
     "name": "stdout",
     "output_type": "stream",
     "text": [
      "Log creado con éxito. Token: d5a14daa-0bc0-4baa-94ef-520a7e8c1f36\n"
     ]
    }
   ],
   "source": [
    "from treinta_ms_utils import create_log, get_log\n",
    "\n",
    "token = create_log(service_name=\"AuthService\",\n",
    "                   endpoint=\"/api/auth/login\",\n",
    "                   response=\"Esto es un ejemplo\",\n",
    "                   status_code=str(200),\n",
    "                   table_name=\"ServiceLogs\")"
   ]
  },
  {
   "cell_type": "code",
   "execution_count": 26,
   "metadata": {},
   "outputs": [
    {
     "data": {
      "text/plain": [
       "{'token': 'd5a14daa-0bc0-4baa-94ef-520a7e8c1f36',\n",
       " 'serviceName': 'AuthService',\n",
       " 'endpoint': '/api/auth/login',\n",
       " 'response': 'Esto es un ejemplo',\n",
       " 'statusCode': '200',\n",
       " 'created_timestamp': '2024-02-05T16:59:14.227963-05:00',\n",
       " 'updated_timestamp': '2024-02-05T16:59:14.227963-05:00'}"
      ]
     },
     "execution_count": 26,
     "metadata": {},
     "output_type": "execute_result"
    }
   ],
   "source": [
    "get_log(token)"
   ]
  }
 ],
 "metadata": {
  "kernelspec": {
   "display_name": "Python 3",
   "language": "python",
   "name": "python3"
  },
  "language_info": {
   "codemirror_mode": {
    "name": "ipython",
    "version": 3
   },
   "file_extension": ".py",
   "mimetype": "text/x-python",
   "name": "python",
   "nbconvert_exporter": "python",
   "pygments_lexer": "ipython3",
   "version": "3.11.7"
  }
 },
 "nbformat": 4,
 "nbformat_minor": 2
}
