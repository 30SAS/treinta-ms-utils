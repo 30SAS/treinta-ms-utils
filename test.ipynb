{
 "cells": [
  {
   "cell_type": "code",
   "execution_count": 1,
   "metadata": {},
   "outputs": [
    {
     "name": "stdout",
     "output_type": "stream",
     "text": [
      "Collecting treinta-ms-utils\n",
      "  Using cached treinta_ms_utils-1.4-py3-none-any.whl (7.3 kB)\n",
      "Collecting boto3\n",
      "  Using cached boto3-1.35.33-py3-none-any.whl (139 kB)\n",
      "Collecting botocore\n",
      "  Using cached botocore-1.35.33-py3-none-any.whl (12.6 MB)\n",
      "Collecting pytz\n",
      "  Using cached pytz-2024.2-py2.py3-none-any.whl (508 kB)\n",
      "Collecting s3transfer<0.11.0,>=0.10.0\n",
      "  Using cached s3transfer-0.10.2-py3-none-any.whl (82 kB)\n",
      "Collecting jmespath<2.0.0,>=0.7.1\n",
      "  Using cached jmespath-1.0.1-py3-none-any.whl (20 kB)\n",
      "Collecting urllib3<1.27,>=1.25.4\n",
      "  Using cached urllib3-1.26.20-py2.py3-none-any.whl (144 kB)\n",
      "Requirement already satisfied: python-dateutil<3.0.0,>=2.1 in ./venv/lib/python3.9/site-packages (from botocore->treinta-ms-utils) (2.9.0.post0)\n",
      "Requirement already satisfied: six>=1.5 in ./venv/lib/python3.9/site-packages (from python-dateutil<3.0.0,>=2.1->botocore->treinta-ms-utils) (1.16.0)\n",
      "Installing collected packages: urllib3, jmespath, botocore, s3transfer, pytz, boto3, treinta-ms-utils\n",
      "Successfully installed boto3-1.35.33 botocore-1.35.33 jmespath-1.0.1 pytz-2024.2 s3transfer-0.10.2 treinta-ms-utils-1.4 urllib3-1.26.20\n",
      "\u001b[33mWARNING: You are using pip version 21.1.1; however, version 24.2 is available.\n",
      "You should consider upgrading via the '/Users/andres.moreno/git-hub/libraries/treinta-ms-utils/venv/bin/python -m pip install --upgrade pip' command.\u001b[0m\n",
      "Note: you may need to restart the kernel to use updated packages.\n"
     ]
    }
   ],
   "source": [
    "pip install --upgrade treinta-ms-utils"
   ]
  },
  {
   "cell_type": "code",
   "execution_count": 5,
   "metadata": {},
   "outputs": [
    {
     "name": "stdout",
     "output_type": "stream",
     "text": [
      "Name: datadog\n",
      "Version: 0.50.1\n",
      "Summary: The Datadog Python library\n",
      "Home-page: None\n",
      "Author: None\n",
      "Author-email: \"Datadog, Inc.\" <dev@datadoghq.com>\n",
      "License: BSD-3-Clause\n",
      "Location: /Users/andres.moreno/git-hub/libraries/treinta-ms-utils/venv/lib/python3.9/site-packages\n",
      "Requires: requests\n",
      "Required-by: \n",
      "Note: you may need to restart the kernel to use updated packages.\n"
     ]
    }
   ],
   "source": [
    "pip show datadog"
   ]
  },
  {
   "cell_type": "code",
   "execution_count": 6,
   "metadata": {},
   "outputs": [
    {
     "name": "stdout",
     "output_type": "stream",
     "text": [
      "Log creado con éxito. Token: 44c70115-8a23-4830-85be-1af83bf35985\n"
     ]
    }
   ],
   "source": [
    "from treinta_ms_utils import create_log, get_log, print_update_log\n",
    "\n",
    "token = create_log(service_name=\"AuthService\",\n",
    "                   endpoint=\"/api/auth/login\",\n",
    "                   response=\"Esto es un ejemplo\",\n",
    "                   status_code=str(200),\n",
    "                   table_name=\"ServiceLogs\")"
   ]
  },
  {
   "cell_type": "code",
   "execution_count": 7,
   "metadata": {},
   "outputs": [
    {
     "data": {
      "text/plain": [
       "{'token': '44c70115-8a23-4830-85be-1af83bf35985',\n",
       " 'serviceName': 'AuthService',\n",
       " 'endpoint': '/api/auth/login',\n",
       " 'response': 'Esto es un ejemplo',\n",
       " 'statusCode': '200',\n",
       " 'created_timestamp': '2024-10-04T09:41:00.349639-05:00',\n",
       " 'updated_timestamp': '2024-10-04T09:41:00.349639-05:00'}"
      ]
     },
     "execution_count": 7,
     "metadata": {},
     "output_type": "execute_result"
    }
   ],
   "source": [
    "get_log(token)"
   ]
  },
  {
   "cell_type": "code",
   "execution_count": 10,
   "metadata": {},
   "outputs": [
    {
     "name": "stdout",
     "output_type": "stream",
     "text": [
      "Token: 44c70115-8a23-4830-85be-1af83bf35985, Message: Esto es un ejemplo de actualización, Status_code: 201\n",
      "Log actualizado con éxito.\n"
     ]
    }
   ],
   "source": [
    "message_log = \"Esto es un ejemplo de actualización\"\n",
    "print_update_log(token, message_log,201)"
   ]
  }
 ],
 "metadata": {
  "kernelspec": {
   "display_name": "Python 3",
   "language": "python",
   "name": "python3"
  },
  "language_info": {
   "codemirror_mode": {
    "name": "ipython",
    "version": 3
   },
   "file_extension": ".py",
   "mimetype": "text/x-python",
   "name": "python",
   "nbconvert_exporter": "python",
   "pygments_lexer": "ipython3",
   "version": "3.9.5"
  }
 },
 "nbformat": 4,
 "nbformat_minor": 2
}
