{
 "cells": [
  {
   "cell_type": "code",
   "execution_count": 1,
   "metadata": {},
   "outputs": [
    {
     "name": "stdout",
     "output_type": "stream",
     "text": [
      "Collecting treinta-ms-utils\n",
      "  Downloading treinta_ms_utils-0.0.1-py3-none-any.whl.metadata (4.0 kB)\n",
      "Requirement already satisfied: boto3 in ./.venv/lib/python3.11/site-packages (from treinta-ms-utils) (1.34.23)\n",
      "Requirement already satisfied: botocore in ./.venv/lib/python3.11/site-packages (from treinta-ms-utils) (1.34.23)\n",
      "Requirement already satisfied: jmespath<2.0.0,>=0.7.1 in ./.venv/lib/python3.11/site-packages (from boto3->treinta-ms-utils) (1.0.1)\n",
      "Requirement already satisfied: s3transfer<0.11.0,>=0.10.0 in ./.venv/lib/python3.11/site-packages (from boto3->treinta-ms-utils) (0.10.0)\n",
      "Requirement already satisfied: python-dateutil<3.0.0,>=2.1 in ./.venv/lib/python3.11/site-packages (from botocore->treinta-ms-utils) (2.8.2)\n",
      "Requirement already satisfied: urllib3<2.1,>=1.25.4 in ./.venv/lib/python3.11/site-packages (from botocore->treinta-ms-utils) (2.0.7)\n",
      "Requirement already satisfied: six>=1.5 in ./.venv/lib/python3.11/site-packages (from python-dateutil<3.0.0,>=2.1->botocore->treinta-ms-utils) (1.16.0)\n",
      "Downloading treinta_ms_utils-0.0.1-py3-none-any.whl (5.1 kB)\n",
      "Installing collected packages: treinta-ms-utils\n",
      "Successfully installed treinta-ms-utils-0.0.1\n",
      "Note: you may need to restart the kernel to use updated packages.\n"
     ]
    }
   ],
   "source": [
    "pip install treinta-ms-utils"
   ]
  },
  {
   "cell_type": "code",
   "execution_count": 3,
   "metadata": {},
   "outputs": [],
   "source": [
    "from treinta_ms_utils import create_log\n",
    "\n",
    "token = create_log(service_name=\"AuthService\",\n",
    "                   endpoint=\"/api/auth/login\",\n",
    "                   response={\"status\": \"success\"},\n",
    "                   status_code=200,\n",
    "                   table_name=\"ServiceLogs\")"
   ]
  }
 ],
 "metadata": {
  "kernelspec": {
   "display_name": "Python 3",
   "language": "python",
   "name": "python3"
  },
  "language_info": {
   "codemirror_mode": {
    "name": "ipython",
    "version": 3
   },
   "file_extension": ".py",
   "mimetype": "text/x-python",
   "name": "python",
   "nbconvert_exporter": "python",
   "pygments_lexer": "ipython3",
   "version": "3.11.7"
  }
 },
 "nbformat": 4,
 "nbformat_minor": 2
}
